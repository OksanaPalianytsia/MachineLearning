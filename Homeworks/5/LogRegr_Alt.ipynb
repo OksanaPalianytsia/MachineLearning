{
 "cells": [
  {
   "cell_type": "code",
   "execution_count": 51,
   "metadata": {},
   "outputs": [],
   "source": [
    "import numpy as np\n",
    "import pandas as pd\n",
    "from sklearn.model_selection import train_test_split\n",
    "from mpl_toolkits.mplot3d import Axes3D\n",
    "import matplotlib.pyplot as plt\n",
    "\n",
    "from matplotlib.colors import ListedColormap\n",
    "cm_bright = ListedColormap(['#FF0000', '#0000FF'])\n",
    "%matplotlib inline"
   ]
  },
  {
   "cell_type": "code",
   "execution_count": 52,
   "metadata": {},
   "outputs": [],
   "source": [
    "def normalize(X):\n",
    "    n = X.shape[0] # number of rows\n",
    "    mean = np.mean(X, axis=1).reshape((n, 1)) # стовпець середніх значень для когжного елемента\n",
    "    std = np.std(X, axis=1).reshape((n, 1))\n",
    "    X_new = (X - mean) / std**2\n",
    "    return X_new, mean, std"
   ]
  },
  {
   "cell_type": "code",
   "execution_count": 53,
   "metadata": {},
   "outputs": [],
   "source": [
    "def sigmoid(Z):\n",
    "    return 1 / (1 + np.exp(-Z))"
   ]
  },
  {
   "cell_type": "code",
   "execution_count": 54,
   "metadata": {},
   "outputs": [],
   "source": [
    "def plot_data(X, y):\n",
    "    ax = plt.gca()\n",
    "    ax.scatter(X[:,0], X[:,1], c=(y == 1), cmap=cm_bright)"
   ]
  },
  {
   "cell_type": "code",
   "execution_count": 55,
   "metadata": {},
   "outputs": [],
   "source": [
    "def fwd_pass(X, params):\n",
    "    W = params[\"W\"]\n",
    "    b = params[\"b\"]\n",
    "    \n",
    "    Z = np.dot(W, X) + b\n",
    "    '''\n",
    "    (1, m) = (1, n) * (n, m) + (1, 1)\n",
    "    W.shape = (1, n)\n",
    "    '''\n",
    "    A = sigmoid(Z)\n",
    "    '''\n",
    "    (1, m) = (1, m)\n",
    "    '''\n",
    "    \n",
    "    cache = (W, b, Z, A)\n",
    "    \n",
    "    return A, cache"
   ]
  },
  {
   "cell_type": "code",
   "execution_count": 56,
   "metadata": {},
   "outputs": [],
   "source": [
    "def cost(A, Y):\n",
    "    m = Y.shape[1]\n",
    "    L = - Y * np.log(A) - (1 - Y) * np.log(1 - A)\n",
    "    '''\n",
    "    (1, m) = (1, m)x(1, m) - (1, m)x(1, m)\n",
    "    '''\n",
    "    J = np.sum(L) / m\n",
    "    '''\n",
    "    (1, 1)\n",
    "    '''\n",
    "    \n",
    "    return J"
   ]
  },
  {
   "cell_type": "code",
   "execution_count": 57,
   "metadata": {},
   "outputs": [],
   "source": [
    "def bwd_pass(X, Y, cache):\n",
    "    n, m = X.shape\n",
    "    (W, b, Z, A) = cache\n",
    "    \n",
    "    dZ = A - Y\n",
    "    '''\n",
    "    (1, m) = (1, m) - (1, m)\n",
    "    '''\n",
    "    dW = (1. / m )* np.dot(X, dZ.T).reshape((1, n))\n",
    "    '''\n",
    "    (1, n) = ((n, m)*((1, m).T).T = ((n, m)*(m, 1)).T\n",
    "    '''\n",
    "    db = (1. / m )* np.sum(dZ)\n",
    "    '''\n",
    "    (1, 1) = sum(1, m) = (1, 1)\n",
    "    '''\n",
    "    \n",
    "    grads = {\"dW\" : dW, \"db\" : db, \"dZ\" : dZ}\n",
    "    return grads"
   ]
  },
  {
   "cell_type": "code",
   "execution_count": 58,
   "metadata": {},
   "outputs": [],
   "source": [
    "def init_params(n, m):\n",
    "    W = np.random.randn(1, n) * 0.01\n",
    "    b = 0\n",
    "    \n",
    "    params = {\"W\" : W, \"b\" : b}\n",
    "    return params"
   ]
  },
  {
   "cell_type": "code",
   "execution_count": 59,
   "metadata": {},
   "outputs": [],
   "source": [
    "def update_params(params, grads, learning_rate):\n",
    "    W = params[\"W\"]\n",
    "    b = params[\"b\"]\n",
    "    \n",
    "    dW = grads[\"dW\"]\n",
    "    db = grads[\"db\"]\n",
    "    \n",
    "    params[\"W\"] = W - learning_rate * dW\n",
    "    params[\"b\"] = b - learning_rate * db\n",
    "    \n",
    "    return params"
   ]
  },
  {
   "cell_type": "code",
   "execution_count": 60,
   "metadata": {},
   "outputs": [],
   "source": [
    "def fit(X, Y, learning_rate = 0.01, num_iter = 30000, debug = False):\n",
    "    n, m = X.shape \n",
    "    params = init_params(n, m)\n",
    "    costs = []\n",
    "    for i in range(num_iter):\n",
    "        A, cache = fwd_pass(X, params)\n",
    "        curr_cost = cost(A, Y)\n",
    "        grads = bwd_pass(X, Y, cache)\n",
    "        \n",
    "        params = update_params(params, grads, learning_rate)\n",
    "        \n",
    "        if debug and i % 10 == 0:\n",
    "            print(\"{}-th iteration: {}\".format(i, curr_cost))\n",
    "            costs.append(curr_cost)\n",
    "    \n",
    "    plt.plot(costs)\n",
    "    plt.ylabel(\"Cost\")\n",
    "    plt.xlabel(\"Iteration, *10\")\n",
    "    plt.show()\n",
    "    \n",
    "    return params    "
   ]
  },
  {
   "cell_type": "code",
   "execution_count": 61,
   "metadata": {},
   "outputs": [
    {
     "name": "stdout",
     "output_type": "stream",
     "text": [
      "Training set: X=(100, 2), y=(100,)\n"
     ]
    }
   ],
   "source": [
    "data_columns = [\"exam1\", \"exam2\"]\n",
    "target_column = \"submitted\"\n",
    "df = pd.read_csv(\"sats.csv\")\n",
    "X, Y = df[data_columns].values, df[target_column]\n",
    "print('Training set: X={}, y={}'.format(X.shape, Y.shape))"
   ]
  },
  {
   "cell_type": "code",
   "execution_count": 72,
   "metadata": {},
   "outputs": [
    {
     "name": "stdout",
     "output_type": "stream",
     "text": [
      "Training set: X=(118, 2), y=(118,)\n"
     ]
    }
   ],
   "source": [
    "data_columns = [\"test1\", \"test2\"]\n",
    "target_column = \"passed\"\n",
    "df = pd.read_csv(\"tests.csv\")\n",
    "X, Y = df[data_columns].values, df[target_column]\n",
    "print('Training set: X={}, y={}'.format(X.shape, Y.shape))"
   ]
  },
  {
   "cell_type": "code",
   "execution_count": 38,
   "metadata": {},
   "outputs": [
    {
     "name": "stdout",
     "output_type": "stream",
     "text": [
      "Training set: X=(118, 7), y=(118,)\n"
     ]
    }
   ],
   "source": [
    "data_columns = [\"test1\", \"test2\", \"test1test1\", \"test2test2\", \"test1test2\", \"test1test1test1\", \"test2test2test2\"]\n",
    "target_column = \"passed\"\n",
    "df = pd.read_csv(\"testsCom.csv\")\n",
    "X, Y = df[data_columns].values, df[target_column]\n",
    "print('Training set: X={}, y={}'.format(X.shape, Y.shape))"
   ]
  },
  {
   "cell_type": "code",
   "execution_count": 73,
   "metadata": {},
   "outputs": [
    {
     "data": {
      "image/png": "[encoded data removed]",
      "text/plain": [
       "<Figure size 432x288 with 1 Axes>"
      ]
     },
     "metadata": {
      "needs_background": "light"
     },
     "output_type": "display_data"
    }
   ],
   "source": [
    "plot_data(X, Y)"
   ]
  },
  {
   "cell_type": "code",
   "execution_count": 74,
   "metadata": {},
   "outputs": [],
   "source": [
    "Y = Y.values.reshape((df.shape[0], 1))"
   ]
  },
  {
   "cell_type": "code",
   "execution_count": 75,
   "metadata": {},
   "outputs": [],
   "source": [
    "X, Y = X.T, Y.T"
   ]
  },
  {
   "cell_type": "code",
   "execution_count": 76,
   "metadata": {},
   "outputs": [],
   "source": [
    "X, mean, std = normalize(X)"
   ]
  },
  {
   "cell_type": "code",
   "execution_count": 77,
   "metadata": {},
   "outputs": [
    {
     "data": {
      "text/plain": [
       "array([[ 1.68141369,  1.09259541, -3.31170484, -0.65026746, -1.89855732],\n",
       "       [-2.68411121,  1.49153719,  0.39985465,  3.01989275, -2.22014613]])"
      ]
     },
     "execution_count": 77,
     "metadata": {},
     "output_type": "execute_result"
    }
   ],
   "source": [
    "X[:,:5]"
   ]
  },
  {
   "cell_type": "code",
   "execution_count": 78,
   "metadata": {},
   "outputs": [
    {
     "data": {
      "text/plain": [
       "(1, 118)"
      ]
     },
     "execution_count": 78,
     "metadata": {},
     "output_type": "execute_result"
    }
   ],
   "source": [
    "Y.shape"
   ]
  },
  {
   "cell_type": "code",
   "execution_count": 79,
   "metadata": {},
   "outputs": [
    {
     "data": {
      "text/plain": [
       "array([[0.05477891],\n",
       "       [0.18310156]])"
      ]
     },
     "execution_count": 79,
     "metadata": {},
     "output_type": "execute_result"
    }
   ],
   "source": [
    "mean"
   ]
  },
  {
   "cell_type": "code",
   "execution_count": 80,
   "metadata": {},
   "outputs": [
    {
     "data": {
      "text/plain": [
       "array([[0.49454485],\n",
       "       [0.51753592]])"
      ]
     },
     "execution_count": 80,
     "metadata": {},
     "output_type": "execute_result"
    }
   ],
   "source": [
    "std"
   ]
  },
  {
   "cell_type": "code",
   "execution_count": 81,
   "metadata": {},
   "outputs": [
    {
     "name": "stdout",
     "output_type": "stream",
     "text": [
      "0-th iteration: 0.6929021320922326\n",
      "10-th iteration: 0.6906082306337623\n",
      "20-th iteration: 0.6903282887391526\n",
      "30-th iteration: 0.6902777870531364\n",
      "40-th iteration: 0.6902611802276567\n",
      "50-th iteration: 0.6902529430491163\n",
      "60-th iteration: 0.6902482202627229\n",
      "70-th iteration: 0.6902454049555261\n",
      "80-th iteration: 0.690243709621891\n",
      "90-th iteration: 0.6902426859313365\n",
      "100-th iteration: 0.6902420673274013\n",
      "110-th iteration: 0.6902416934303052\n",
      "120-th iteration: 0.6902414674241187\n",
      "130-th iteration: 0.6902413308092329\n",
      "140-th iteration: 0.6902412482283818\n",
      "150-th iteration: 0.6902411983097765\n",
      "160-th iteration: 0.6902411681348245\n",
      "170-th iteration: 0.690241149894546\n",
      "180-th iteration: 0.6902411388685736\n",
      "190-th iteration: 0.6902411322035339\n",
      "200-th iteration: 0.690241128174611\n",
      "210-th iteration: 0.690241125739183\n",
      "220-th iteration: 0.6902411242669992\n",
      "230-th iteration: 0.6902411233770838\n",
      "240-th iteration: 0.6902411228391416\n"
     ]
    },
    {
     "data": {
      "image/png": "[encoded data removed]",
      "text/plain": [
       "<Figure size 432x288 with 1 Axes>"
      ]
     },
     "metadata": {
      "needs_background": "light"
     },
     "output_type": "display_data"
    }
   ],
   "source": [
    "params = fit(X, Y, learning_rate = 0.1, num_iter = 250, debug = True)"
   ]
  },
  {
   "cell_type": "code",
   "execution_count": 82,
   "metadata": {},
   "outputs": [
    {
     "name": "stdout",
     "output_type": "stream",
     "text": [
      "{'W': array([[-0.07423342, -0.00485648]]), 'b': -0.034067398758758166}\n"
     ]
    }
   ],
   "source": [
    "print(params)"
   ]
  },
  {
   "cell_type": "code",
   "execution_count": null,
   "metadata": {},
   "outputs": [],
   "source": []
  }
 ],
 "metadata": {
  "kernelspec": {
   "display_name": "Python 3 (ipykernel)",
   "language": "python",
   "name": "python3"
  },
  "language_info": {
   "codemirror_mode": {
    "name": "ipython",
    "version": 3
   },
   "file_extension": ".py",
   "mimetype": "text/x-python",
   "name": "python",
   "nbconvert_exporter": "python",
   "pygments_lexer": "ipython3",
   "version": "3.8.12"
  }
 },
 "nbformat": 4,
 "nbformat_minor": 1
}
