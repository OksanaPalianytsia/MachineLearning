{
 "cells": [
  {
   "cell_type": "code",
   "execution_count": 15,
   "id": "e19172aa-4e07-4ea3-977a-48cc69f1c39e",
   "metadata": {},
   "outputs": [
    {
     "name": "stdin",
     "output_type": "stream",
     "text": [
      "Number of ROWS in matrix A :  15\n",
      "Number of COLUMNS in matrix A :  355\n",
      "Number of ROWS in matrix B :  355\n",
      "Number of COLUMNS in matrix B :  2\n"
     ]
    },
    {
     "name": "stdout",
     "output_type": "stream",
     "text": [
      "\n",
      "Matrix product OWN algorithm time :\n",
      "21.574690000011287 ms\n",
      "\n",
      "Matrix product NUMPY algorithm time :\n",
      "0.14567999999144376 ms\n",
      "\n",
      "NUMPY algorithm is 148.096444 time faster.\n"
     ]
    }
   ],
   "source": [
    "import numpy as np\n",
    "import time\n",
    "from timeit import timeit\n",
    "\n",
    "m_A = int(input('Number of ROWS in matrix A : '))\n",
    "n_A = int(input('Number of COLUMNS in matrix A : '))\n",
    "m_B = int(input('Number of ROWS in matrix B : '))\n",
    "n_B = int(input('Number of COLUMNS in matrix B : '))\n",
    "\n",
    "def matrix_product (X, Y):\n",
    "    C = np.random.random((m_A, n_B))\n",
    "    for i in range(m_A):\n",
    "        for j in range (n_B):\n",
    "            sum = 0\n",
    "            for k in range (n_A):\n",
    "                sum += A[i][k] * B[k][j]\n",
    "            C[i][j] = sum\n",
    "    return C\n",
    "            \n",
    "if n_A != m_B :\n",
    "    print('\\n\\tCan not be multiplied!!!')\n",
    "else :\n",
    "    A = np.random.random((m_A, n_A))\n",
    "    B = np.random.random((m_B, n_B))\n",
    "    \n",
    "    print(\"\\nMatrix product OWN algorithm time :\")\n",
    "    time_1 = timeit(lambda:matrix_product (A, B), number = 10) * 1000 / 10\n",
    "    print(f\"{time_1} ms\".format(time_1))\n",
    "    \n",
    "    print(\"\\nMatrix product NUMPY algorithm time :\")\n",
    "    time_2 = timeit(lambda:np.dot(A, B), number = 10) * 1000 / 10\n",
    "    print(f\"{time_2} ms\".format(time_2))\n",
    "    \n",
    "    print(\"\\nNUMPY algorithm is %f time faster.\" % (time_1/time_2))"
   ]
  },
  {
   "cell_type": "code",
   "execution_count": null,
   "id": "80104a92-491d-4162-8bdb-2dc8b10b6908",
   "metadata": {},
   "outputs": [],
   "source": []
  }
 ],
 "metadata": {
  "kernelspec": {
   "display_name": "Python 3 (ipykernel)",
   "language": "python",
   "name": "python3"
  },
  "language_info": {
   "codemirror_mode": {
    "name": "ipython",
    "version": 3
   },
   "file_extension": ".py",
   "mimetype": "text/x-python",
   "name": "python",
   "nbconvert_exporter": "python",
   "pygments_lexer": "ipython3",
   "version": "3.8.12"
  }
 },
 "nbformat": 4,
 "nbformat_minor": 5
}
