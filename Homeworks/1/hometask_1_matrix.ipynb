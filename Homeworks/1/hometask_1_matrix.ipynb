{
 "cells": [
  {
   "cell_type": "code",
   "execution_count": null,
   "id": "d506a4ee",
   "metadata": {},
   "outputs": [],
   "source": [
    "import numpy as np\n",
    "from timeit import timeit\n",
    "\n",
    "m_A = int(input('Number of ROWS in matrix A : '))\n",
    "n_A = int(input('Number of COLUMNS in matrix A : '))\n",
    "m_B = int(input('Number of ROWS in matrix B : '))\n",
    "n_B = int(input('Number of COLUMNS in matrix B : '))\n",
    "\n",
    "def matrix_product (X, Y):\n",
    "    C = np.random.random((m_A, n_B))\n",
    "    for i in range(m_A):\n",
    "        for j in range (n_B):\n",
    "            sum = 0\n",
    "            for k in range (n_A):\n",
    "                sum += A[i][k] * B[k][j]\n",
    "            C[i][j] = sum\n",
    "    return C\n",
    "            \n",
    "if n_A != m_B :\n",
    "    print('\\n\\tCan not be multiplied!!!')\n",
    "else :\n",
    "    A = np.random.random((m_A, n_A))\n",
    "    B = np.random.random((m_B, n_B))\n",
    "    \n",
    "    print(\"\\nMatrix product OWN algorithm time :\")\n",
    "    time_1 = timeit(lambda:matrix_product (A, B), number = 10) * 1000 / 10\n",
    "    print(f\"{time_1} ms\".format(time_1))\n",
    "    \n",
    "    print(\"\\nMatrix product NUMPY algorithm time :\")\n",
    "    time_2 = timeit(lambda:np.dot(A, B), number = 10) * 1000 / 10\n",
    "    print(f\"{time_2} ms\".format(time_2))\n",
    "    \n",
    "    print(\"\\nNUMPY algorithm is %f time faster.\" % (time_1/time_2))"
   ]
  },
  {
   "cell_type": "code",
   "execution_count": null,
   "id": "3b641b4c-e1d1-4c2b-ba6a-1d230261985c",
   "metadata": {},
   "outputs": [],
   "source": []
  }
 ],
 "metadata": {
  "kernelspec": {
   "display_name": "Python 3 (ipykernel)",
   "language": "python",
   "name": "python3"
  },
  "language_info": {
   "codemirror_mode": {
    "name": "ipython",
    "version": 3
   },
   "file_extension": ".py",
   "mimetype": "text/x-python",
   "name": "python",
   "nbconvert_exporter": "python",
   "pygments_lexer": "ipython3",
   "version": "3.8.12"
  }
 },
 "nbformat": 4,
 "nbformat_minor": 5
}
