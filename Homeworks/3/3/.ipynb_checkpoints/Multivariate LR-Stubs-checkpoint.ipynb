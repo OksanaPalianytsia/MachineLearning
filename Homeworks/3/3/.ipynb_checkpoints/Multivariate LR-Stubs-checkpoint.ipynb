{
 "cells": [
  {
   "cell_type": "code",
   "execution_count": 375,
   "metadata": {},
   "outputs": [],
   "source": [
    "import numpy as np\n",
    "import pandas as pd\n",
    "from sklearn.linear_model import LogisticRegression, SGDClassifier\n",
    "from sklearn.metrics import accuracy_score\n",
    "from sklearn.preprocessing import PolynomialFeatures\n",
    "import matplotlib.pyplot as plt\n",
    "%matplotlib inline"
   ]
  },
  {
   "cell_type": "code",
   "execution_count": 376,
   "metadata": {},
   "outputs": [],
   "source": [
    "def load_datasets(filename, data_columns, target_column):\n",
    "    df = pd.read_csv(filename)\n",
    "    X, y = df[data_columns], df[target_column]\n",
    "    '''\n",
    "    тут вимірність X  (m, n), а y (m, 1)\n",
    "    '''\n",
    "    return X, y"
   ]
  },
  {
   "cell_type": "code",
   "execution_count": 377,
   "metadata": {},
   "outputs": [],
   "source": [
    "def plot_data(A, b, test = False):\n",
    "    positive_indices = np.where(b == 1)[0]\n",
    "    negative_indices = np.where(b == 0)[0]\n",
    "    \n",
    "    plt.scatter(A.iloc[positive_indices, 0], A.iloc[positive_indices, 1], marker='x', c= 'yellow' if test else 'green')\n",
    "    plt.scatter(A.iloc[negative_indices, 0], A.iloc[negative_indices, 1], marker='+', c= 'blue' if test else 'red')\n",
    "    \n",
    "   # plt.show()"
   ]
  },
  {
   "cell_type": "code",
   "execution_count": 436,
   "metadata": {},
   "outputs": [],
   "source": [
    "def decision_boundary(X, y, mean, std, theta):\n",
    "    \n",
    "    X_new, mean, std = normalize(X[:, 1:])\n",
    "    X_new = prepare_X(X_new)\n",
    "    X = X_new\n",
    "    print(X_new.shape)\n",
    "    \n",
    "    ax=None\n",
    "    threshold=0.5\n",
    "    contourf=False\n",
    "    \n",
    "    test = False\n",
    "    positive_indices = np.where(y == 1)[0]\n",
    "    negative_indices = np.where(y == 0)[0]\n",
    "    \n",
    "    plt.scatter(X[positive_indices, 1], X[positive_indices, 2], marker='x', c= 'yellow' if test else 'green')\n",
    "    plt.scatter(X[negative_indices, 1], X[negative_indices, 2], marker='+', c= 'blue' if test else 'red')\n",
    "    \n",
    "    x_1 = X[:,1]\n",
    "    x_2 = X[:,2]\n",
    "    \n",
    "    xx1, xx2 = np.meshgrid(np.linspace(x_1.min(), x_1.max(), 100), \n",
    "                           np.linspace(x_2.min(), x_2.max(), 100))\n",
    "    \n",
    "    X_pred = np.c_[xx1.ravel(), xx2.ravel(), xx1.ravel()**2, xx1.ravel()*xx2.ravel(), xx2.ravel()**2] #xx1.ravel()**3, xx2.ravel()**3]\n",
    "    X_pred = prepare_X(X_pred)\n",
    "    print(X_pred.shape)\n",
    "    pred = h(X_pred, theta)\n",
    "    pred_ = h(X, theta)\n",
    "    predictions = np.where(pred_>=0.5, 1, 0).T\n",
    "    print(predictions)\n",
    "    Z = pred.reshape((100, 100))  # reshape seq to grid\n",
    "    if ax is None:\n",
    "        ax = plt.gca()\n",
    "    ax.contour(xx1, xx2, Z, levels=[threshold], colors='black')\n",
    "    ax.set_xlim((x_1.min(), x_1.max()))\n",
    "    ax.set_ylim((x_2.min(), x_2.max()))"
   ]
  },
  {
   "cell_type": "code",
   "execution_count": 422,
   "metadata": {},
   "outputs": [],
   "source": [
    "def normalize(X):\n",
    "    \n",
    "    mean = np.mean(X, axis=0) \n",
    "    '''\n",
    "    numpy.mean(a, axis=None)    vertically downwards across rows (axis 0), \n",
    "    np.mean(X, axis=0).shape = (1,n)  - отримаємо n (тут n = 1) середніх значень відповідно до кількості характеристик\n",
    "    '''\n",
    "    std = np.std(X, axis=0)\n",
    "    '''\n",
    "    numpy.std(a, axis=None)    vertically downwards across rows (axis 0), \n",
    "    np.std(X, axis=0).shape = (1,n)  - отримаємо n (тут n = 1) стандартних відхилень відповідно до кількості характеристик\n",
    "    '''\n",
    "    X_new = (X - mean) / std \n",
    "    ''' \n",
    "    поелементне віднімання та ділення для об'єктів np.array, бо для звичайних phython list не працює\n",
    "    потрібно, щоб кількість стовців у X_new, mean, std була однаковою n (тут n = 1)\n",
    "    '''\n",
    "    return X_new, mean, std"
   ]
  },
  {
   "cell_type": "code",
   "execution_count": 380,
   "metadata": {},
   "outputs": [],
   "source": [
    "def prepare_X(X):\n",
    "    m = X.shape[0]\n",
    "    ones = np.ones((m, 1))\n",
    "    X_new = np.column_stack((ones, X))\n",
    "    return X_new"
   ]
  },
  {
   "cell_type": "code",
   "execution_count": 381,
   "metadata": {},
   "outputs": [],
   "source": [
    "def sigmoid(z):\n",
    "    #z - вектор стовпець, тобто (m, 1)\n",
    "    g = 1/(1 + np.exp(-z))\n",
    "    return g"
   ]
  },
  {
   "cell_type": "code",
   "execution_count": 382,
   "metadata": {},
   "outputs": [],
   "source": [
    "def h(X, theta):\n",
    "    '''\n",
    "    X - матриця (m, n+1)\n",
    "    theta - вектор-стовпець (n+1, 1)\n",
    "    z - вектор стовпець, тобто (m, 1) \n",
    "    Щоб його отримати (m, 1) = (m, n+1) * (n+1, 1)\n",
    "    ''' \n",
    "    z = np.dot(X, theta)\n",
    "    return sigmoid(z)"
   ]
  },
  {
   "cell_type": "code",
   "execution_count": 383,
   "metadata": {},
   "outputs": [],
   "source": [
    "def cost_function(X, y, theta):    \n",
    "    m = X.shape[0]\n",
    "    if m == 0:\n",
    "        return None\n",
    "    J = (1/m) * (- np.dot(y.T, np.log(h(X, theta))) - np.dot( (1 - y).T, np.log(1 - h(X, theta)) ))\n",
    "    return J\n",
    "                "
   ]
  },
  {
   "cell_type": "code",
   "execution_count": 384,
   "metadata": {},
   "outputs": [],
   "source": [
    "def derivative_theta(X, y, theta):\n",
    "    m = X.shape[0]\n",
    "    if m == 0:\n",
    "        return None\n",
    "    '''\n",
    "    X.T.shape = (n+1, m)\n",
    "    (h(X, theta)-y).shape = (m,1)\n",
    "    np.dot(X.T, h(X, theta)-y).shape = (n+1, 1)\n",
    "    Оскільки вектор похідних має бути тієії ж розмірності, що й thetha - вектор-(стовпець) параметрів: розмірності (n+1, 1),\n",
    "    то виконуємо транспонування\n",
    "    np.dot(X.T, h(X, theta)-y).shape = (n+1, 1)\n",
    "\n",
    "    np.shape(X)[0]) - кількість рядків(прикладів) m у матриці X \n",
    "    '''\n",
    "    d_theta = (1/m)* np.dot(X.T, (h(X, theta)-y))\n",
    "    \n",
    "    return d_theta"
   ]
  },
  {
   "cell_type": "code",
   "execution_count": 385,
   "metadata": {},
   "outputs": [],
   "source": [
    "def gradient_descent(X, y, theta, alpha, epsilon, num_iters, print_J = True):\n",
    "    m = X.shape[0]\n",
    "    J_history = []\n",
    "    \n",
    "    J = cost_function(X, y, theta)\n",
    "    \n",
    "    if print_J == True:\n",
    "        print(J)\n",
    "    J_history.append(J)\n",
    "    for i in range(num_iters):\n",
    "        \n",
    "        theta = theta - alpha*derivative_theta(X, y, theta)\n",
    "        \n",
    "        J = cost_function(X, y, theta)      \n",
    "        \n",
    "        J_history.append(J)\n",
    "        \n",
    "        if i % 1000 == 0 and print_J == True:\n",
    "            print(J)\n",
    "        \n",
    "        if abs(J-J_history[-2]) < epsilon:\n",
    "            break\n",
    "            \n",
    "    return theta, J_history"
   ]
  },
  {
   "cell_type": "code",
   "execution_count": 386,
   "metadata": {},
   "outputs": [],
   "source": [
    "def predict(X, mean, std, theta):\n",
    "    '''\n",
    "    повертає масив зі значенням y = {0,1} для кожного прикладу датасету\n",
    "    \n",
    "    тут  також є формули на випадорк, якщо отримуємо дані вигляду x1, x2\n",
    "    '''\n",
    "    #degree = 2  \n",
    "    #poly = PolynomialFeatures(degree)\n",
    "    #X = poly.fit_transform(X)\n",
    "    #X = np.array(X[:, 1:])\n",
    "    #m = X.shape[0] \n",
    "    #X = (X - mean) / std\n",
    "    #X = prepare_X(X)\n",
    "    pred = h(X, theta)\n",
    "    predictions = np.where(pred>=0.5, 1, 0)\n",
    "    return predictions"
   ]
  },
  {
   "cell_type": "code",
   "execution_count": 387,
   "metadata": {},
   "outputs": [],
   "source": [
    "#data_columns = [\"exam1\", \"exam2\"]\n",
    "#target_column = \"submitted\"\n",
    "#X, y = load_datasets('sats.csv', data_columns, target_column)\n",
    "#print('Training set: X={}, y={}'.format(X.shape, y.shape))"
   ]
  },
  {
   "cell_type": "code",
   "execution_count": 388,
   "metadata": {},
   "outputs": [
    {
     "name": "stdout",
     "output_type": "stream",
     "text": [
      "Training set: X=(118, 2), y=(118,)\n"
     ]
    }
   ],
   "source": [
    "#Спробувати на цьому датасеті після написання всіх функцій і відлагодження на попередньому\n",
    "\n",
    "data_columns = [\"test1\", \"test2\"]\n",
    "target_column = \"passed\"\n",
    "X, y = load_datasets('tests.csv', data_columns, target_column)\n",
    "print('Training set: X={}, y={}'.format(X.shape, y.shape))\n",
    "\n",
    "#df = pd.read_csv('testsCom.csv')\n",
    "#X, y = df[[\"test1\", \"test2\", \"test1test1\", \"test2test2\", \"test1test2\", \"test1test1test1\", \"test2test2test2\"]], df['passed']\n",
    "#print('Training set: X={}, y={}'.format(X.shape, y.shape))"
   ]
  },
  {
   "cell_type": "code",
   "execution_count": 389,
   "metadata": {
    "scrolled": true
   },
   "outputs": [
    {
     "data": {
      "image/png": "[encoded data removed]",
      "text/plain": [
       "<Figure size 432x288 with 1 Axes>"
      ]
     },
     "metadata": {
      "needs_background": "light"
     },
     "output_type": "display_data"
    }
   ],
   "source": [
    "plot_data(X, y)"
   ]
  },
  {
   "cell_type": "code",
   "execution_count": 390,
   "metadata": {},
   "outputs": [
    {
     "name": "stdout",
     "output_type": "stream",
     "text": [
      "(118, 6) (118,)\n"
     ]
    }
   ],
   "source": [
    "degree = 2\n",
    "poly = PolynomialFeatures(degree)\n",
    "X = poly.fit_transform(X)\n",
    "print(X.shape, y.shape)"
   ]
  },
  {
   "cell_type": "code",
   "execution_count": 391,
   "metadata": {},
   "outputs": [],
   "source": [
    "X_new, mean, std = normalize(X[:, 1:])"
   ]
  },
  {
   "cell_type": "code",
   "execution_count": 392,
   "metadata": {},
   "outputs": [
    {
     "name": "stdout",
     "output_type": "stream",
     "text": [
      "(118, 6)\n",
      "[[1 1 1 1 1 1 1 1 1 1 1 1 1 1 1 1 1 1 1 1 1 1 1 1 1 1 1 1 1 1 1 1 1 1 1 1\n",
      "  1 1 1 1 1 1 1 1 1 1 1 1 1 1 1 1 1 1 1 1 1 1 0 0 0 0 0 0 0 0 0 0 0 0 0 0\n",
      "  0 0 0 0 0 0 0 0 0 0 0 0 0 0 0 0 0 0 0 0 0 0 0 0 0 0 0 0 0 0 0 0 0 0 0 0\n",
      "  0 0 0 0 0 0 0 0 0 0]]\n"
     ]
    }
   ],
   "source": [
    "X_new = prepare_X(X_new)\n",
    "print(X_new.shape)\n",
    "y_new = y.values.reshape((X.shape[0], 1))\n",
    "print(y_new.T)"
   ]
  },
  {
   "cell_type": "code",
   "execution_count": 393,
   "metadata": {},
   "outputs": [
    {
     "name": "stdout",
     "output_type": "stream",
     "text": [
      "(6, 1)\n"
     ]
    }
   ],
   "source": [
    "theta = np.zeros((X_new.shape[1], 1))\n",
    "print(theta.shape)"
   ]
  },
  {
   "cell_type": "code",
   "execution_count": 394,
   "metadata": {},
   "outputs": [
    {
     "data": {
      "text/plain": [
       "array([[0.69314718]])"
      ]
     },
     "execution_count": 394,
     "metadata": {},
     "output_type": "execute_result"
    }
   ],
   "source": [
    "cost_function(X_new, y_new, theta)"
   ]
  },
  {
   "cell_type": "code",
   "execution_count": 395,
   "metadata": {
    "scrolled": true
   },
   "outputs": [
    {
     "name": "stdout",
     "output_type": "stream",
     "text": [
      "[[-0.23781905]\n",
      " [ 1.60176969]\n",
      " [ 2.15079901]\n",
      " [-2.97058601]\n",
      " [-1.67608809]\n",
      " [-3.34232294]] 64525\n"
     ]
    }
   ],
   "source": [
    "new_theta, Js = gradient_descent(X_new, y_new, theta, 0.01, 1e-10, 1000000, False)\n",
    "print(new_theta, len(Js))"
   ]
  },
  {
   "cell_type": "code",
   "execution_count": 396,
   "metadata": {},
   "outputs": [
    {
     "data": {
      "text/plain": [
       "array([[0.34810593]])"
      ]
     },
     "execution_count": 396,
     "metadata": {},
     "output_type": "execute_result"
    }
   ],
   "source": [
    "cost_function(X_new, y_new, new_theta)"
   ]
  },
  {
   "cell_type": "code",
   "execution_count": 437,
   "metadata": {},
   "outputs": [
    {
     "name": "stdout",
     "output_type": "stream",
     "text": [
      "(118, 6)\n",
      "(10000, 6)\n",
      "[[1 1 1 1 1 1 1 1 1 1 1 1 1 1 1 1 1 1 1 1 0 1 0 0 1 0 1 0 1 1 0 1 1 1 1 1\n",
      "  1 1 1 1 1 1 1 1 1 1 0 1 0 1 1 1 1 1 1 1 1 1 0 1 1 0 0 0 0 0 0 0 0 0 0 0\n",
      "  0 0 0 0 1 0 0 0 0 0 0 0 0 0 0 0 1 0 0 0 1 0 0 0 0 0 0 0 0 0 0 0 1 0 0 1\n",
      "  0 0 0 0 0 0 0 0 1 1]]\n"
     ]
    },
    {
     "data": {
      "image/png": "[encoded data removed]",
      "text/plain": [
       "<Figure size 432x288 with 1 Axes>"
      ]
     },
     "metadata": {
      "needs_background": "light"
     },
     "output_type": "display_data"
    }
   ],
   "source": [
    "decision_boundary(X, y, mean, std, new_theta)"
   ]
  },
  {
   "cell_type": "code",
   "execution_count": 430,
   "metadata": {},
   "outputs": [
    {
     "name": "stdout",
     "output_type": "stream",
     "text": [
      "[[1 1 1 1 1 1 1 1 1 1 1 1 1 1 1 1 1 1 1 1 0 1 0 0 1 0 1 0 1 1 0 1 1 1 1 1\n",
      "  1 1 1 1 1 1 1 1 1 1 0 1 0 1 1 1 1 1 1 1 1 1 0 1 1 0 0 0 0 0 0 0 0 0 0 0\n",
      "  0 0 0 0 1 0 0 0 0 0 0 0 0 0 0 0 1 0 0 0 1 0 0 0 0 0 0 0 0 0 0 0 1 0 0 1\n",
      "  0 0 0 0 0 0 0 0 1 1]]\n"
     ]
    }
   ],
   "source": [
    "#T = np.array([[40, 40], [60, 65]])\n",
    "T = X_new\n",
    "y_predicted = predict(T, mean, std, new_theta)\n",
    "\n",
    "print(y_predicted.T)"
   ]
  },
  {
   "cell_type": "code",
   "execution_count": 399,
   "metadata": {},
   "outputs": [
    {
     "name": "stdout",
     "output_type": "stream",
     "text": [
      "0.8559322033898306\n"
     ]
    }
   ],
   "source": [
    "number_right = 0\n",
    "for i in range(y_new.shape[0]):\n",
    "    if (y_predicted[i] == y_new[i]):\n",
    "        number_right = number_right + 1\n",
    "accuracy_custom = number_right/ y_new.shape[0]\n",
    "print(accuracy_custom)\n",
    "#print(accuracy_score(y, y_predicted)) - можна також використати такий метод (тоді не потрбні обрахунки вище)"
   ]
  },
  {
   "cell_type": "code",
   "execution_count": 400,
   "metadata": {},
   "outputs": [],
   "source": [
    "clf = LogisticRegression()\n",
    "#clf = LogisticRegression(solver='lbfgs')\n",
    "#clf = LogisticRegression(solver='lbfgs', max_iter=100000, tol=1e-10)\n",
    "clf = clf.fit(X, y)"
   ]
  },
  {
   "cell_type": "code",
   "execution_count": 401,
   "metadata": {},
   "outputs": [
    {
     "name": "stdout",
     "output_type": "stream",
     "text": [
      "(118,)\n"
     ]
    }
   ],
   "source": [
    "y_pred = clf.predict(X)\n",
    "print(y_pred.shape)"
   ]
  },
  {
   "cell_type": "code",
   "execution_count": 402,
   "metadata": {},
   "outputs": [
    {
     "data": {
      "text/plain": [
       "array([1, 1, 1, 1, 1, 1, 1, 1, 1, 1, 0, 0, 1, 0, 1, 1, 1, 1, 1, 1, 0, 1,\n",
       "       1, 1, 1, 1, 0, 0, 1, 1, 0, 1, 1, 1, 1, 1, 1, 1, 1, 1, 1, 1, 1, 1,\n",
       "       1, 1, 0, 1, 0, 1, 1, 1, 1, 1, 1, 1, 1, 1, 0, 1, 1, 0, 0, 0, 0, 0,\n",
       "       0, 0, 0, 0, 0, 0, 0, 0, 0, 0, 1, 0, 0, 0, 1, 1, 0, 1, 0, 0, 0, 0,\n",
       "       1, 0, 0, 0, 1, 0, 0, 0, 0, 0, 0, 0, 0, 0, 0, 0, 1, 0, 1, 1, 0, 0,\n",
       "       0, 0, 0, 0, 0, 0, 1, 1], dtype=int64)"
      ]
     },
     "execution_count": 402,
     "metadata": {},
     "output_type": "execute_result"
    }
   ],
   "source": [
    "y_pred"
   ]
  },
  {
   "cell_type": "code",
   "execution_count": 403,
   "metadata": {},
   "outputs": [
    {
     "data": {
      "text/plain": [
       "0.8135593220338984"
      ]
     },
     "execution_count": 403,
     "metadata": {},
     "output_type": "execute_result"
    }
   ],
   "source": [
    "accuracy_score(y, y_pred)"
   ]
  },
  {
   "cell_type": "code",
   "execution_count": 404,
   "metadata": {},
   "outputs": [],
   "source": [
    "accuracy_sk = accuracy_score(y, y_pred)"
   ]
  },
  {
   "cell_type": "code",
   "execution_count": 405,
   "metadata": {},
   "outputs": [
    {
     "name": "stdout",
     "output_type": "stream",
     "text": [
      "Compare accuracy of custom and sklearn algorithm (for degree 2 ).\n",
      "\n",
      "   accuracy_custom  accuracy_sk\n",
      "0         0.855932     0.813559\n"
     ]
    }
   ],
   "source": [
    "print(\"Compare accuracy of custom and sklearn algorithm (for degree 2 ).\\n\")\n",
    "res_compare = pd.DataFrame({'accuracy_custom' : [accuracy_custom], 'accuracy_sk' : [accuracy_sk]})\n",
    "print(res_compare)"
   ]
  },
  {
   "cell_type": "code",
   "execution_count": null,
   "metadata": {},
   "outputs": [],
   "source": []
  }
 ],
 "metadata": {
  "anaconda-cloud": {},
  "kernelspec": {
   "display_name": "Python 3 (ipykernel)",
   "language": "python",
   "name": "python3"
  },
  "language_info": {
   "codemirror_mode": {
    "name": "ipython",
    "version": 3
   },
   "file_extension": ".py",
   "mimetype": "text/x-python",
   "name": "python",
   "nbconvert_exporter": "python",
   "pygments_lexer": "ipython3",
   "version": "3.8.12"
  }
 },
 "nbformat": 4,
 "nbformat_minor": 1
}
