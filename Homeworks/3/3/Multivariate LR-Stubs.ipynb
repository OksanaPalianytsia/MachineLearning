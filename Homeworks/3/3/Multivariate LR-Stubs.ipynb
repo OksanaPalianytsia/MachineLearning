{
 "cells": [
  {
   "cell_type": "code",
   "execution_count": 366,
   "metadata": {},
   "outputs": [],
   "source": [
    "import numpy as np\n",
    "import pandas as pd\n",
    "from sklearn.model_selection import train_test_split\n",
    "from sklearn.linear_model import LogisticRegression, SGDClassifier\n",
    "from sklearn.metrics import accuracy_score\n",
    "from sklearn.preprocessing import PolynomialFeatures\n",
    "import matplotlib.pyplot as plt\n",
    "%matplotlib inline"
   ]
  },
  {
   "cell_type": "code",
   "execution_count": 367,
   "metadata": {},
   "outputs": [],
   "source": [
    "def load_datasets(filename, data_columns, target_column):\n",
    "    df = pd.read_csv(filename)\n",
    "    X, y = df[data_columns], df[target_column]\n",
    "    '''\n",
    "    тут вимірність X  (m, n), а y (m, 1)\n",
    "    '''\n",
    "    return X, y"
   ]
  },
  {
   "cell_type": "code",
   "execution_count": 368,
   "metadata": {},
   "outputs": [],
   "source": [
    "def split_datasets(X, y, test_size):\n",
    "    '''\n",
    "    Розбиває дані на 2 датасети: тренувальний та тестувальний.\n",
    "    \n",
    "    Параметри:\n",
    "    X - набір характеристик\n",
    "    y - набір передбачуваних величин\n",
    "    test_size - розмір тестового датасету\n",
    "    \n",
    "    Результат:\n",
    "    X_train - набір тренувальних прикладів\n",
    "    X_test - набір тестових прикладів\n",
    "    y_train - вектор величин, що передбачаємо для тренувального датасету\n",
    "    y_test - вектор величин, що передбачаємо для тестового датасету\n",
    "    '''\n",
    "    X_train, X_test, y_train, y_test = train_test_split(X, y, test_size=test_size) # метод sklearn.model_selection.train_test_split(*arrays, test_size=None, train_size=None)\n",
    "    return X_train, X_test, y_train, y_test"
   ]
  },
  {
   "cell_type": "code",
   "execution_count": 369,
   "metadata": {},
   "outputs": [],
   "source": [
    "def plot_data(A, b, test = False):\n",
    "    positive_indices = np.where(b == 1)[0]\n",
    "    negative_indices = np.where(b == 0)[0]\n",
    "    \n",
    "    plt.scatter(X[positive_indices, 1], X[positive_indices, 2], marker='x', c= 'yellow' if test else 'green')\n",
    "    plt.scatter(X[negative_indices, 1], X[negative_indices, 2], marker='+', c= 'blue' if test else 'red')\n",
    "    \n",
    "    #plt.scatter(A.iloc[positive_indices, 0], A.iloc[positive_indices, 1], marker='x', c= 'yellow' if test else 'green')\n",
    "    #plt.scatter(A.iloc[negative_indices, 0], A.iloc[negative_indices, 1], marker='+', c= 'blue' if test else 'red')\n",
    "    \n",
    "    #plt.show()"
   ]
  },
  {
   "cell_type": "code",
   "execution_count": 395,
   "metadata": {},
   "outputs": [],
   "source": [
    "def decision_boundary(X, y, mean, std, theta):\n",
    "    \n",
    "    ax=None\n",
    "    threshold=0.5\n",
    "    contourf=False\n",
    "        \n",
    "    x_1 = X[:,1]\n",
    "    x_2 = X[:,2]\n",
    "    \n",
    "    xx1, xx2 = np.meshgrid(np.linspace(x_1.min(), x_1.max(), 100), np.linspace(x_2.min(), x_2.max(), 100))\n",
    "    \n",
    "    X_pred = np.c_[xx1.ravel(), xx2.ravel(), xx1.ravel()**2, xx1.ravel()*xx2.ravel(), xx2.ravel()**2] #xx1.ravel()**3, xx2.ravel()**3]\n",
    "    X_pred = prepare_X(X_pred)\n",
    "    '''\n",
    "    new_series = pd.DataFrame(X_pred)\n",
    "    print(new_series)\n",
    "    '''        \n",
    "    pred = h(X_pred, theta)\n",
    "    predictions = np.where(pred >= 0.5, 1, 0).T\n",
    "    '''\n",
    "    new_series = pd.DataFrame(pred)\n",
    "    print(new_series)\n",
    "    count = np.count_nonzero(predictions == 1)\n",
    "    print(count)\n",
    "    '''    \n",
    "    \n",
    "    Z = pred.reshape((100, 100))  # reshape seq to grid\n",
    "    if ax is None:\n",
    "        ax = plt.gca()\n",
    "    ax.contour(xx1, xx2, Z, levels=[threshold], colors='black')\n",
    "    ax.set_xlim((x_1.min(), x_1.max()))\n",
    "    ax.set_ylim((x_2.min(), x_2.max()))\n",
    "    plt.show()"
   ]
  },
  {
   "cell_type": "code",
   "execution_count": 396,
   "metadata": {},
   "outputs": [],
   "source": [
    "def plot_surface(est, x_1, x_2, ax=None, threshold=0.5, contourf=False):\n",
    "\n",
    "    \"\"\"Plots the decision surface of ``est`` on features ``x1`` and ``x2``. \"\"\"\n",
    "    \n",
    "    xx1, xx2 = np.meshgrid(np.linspace(x_1.min(), x_1.max(), 100), np.linspace(x_2.min(), x_2.max(), 100))\n",
    "    \n",
    "    X_pred = np.c_[xx1.ravel(), xx2.ravel(), xx1.ravel()**2, xx1.ravel()*xx2.ravel(), xx2.ravel()**2 ]#, xx1.ravel()**3, xx2.ravel()**3]\n",
    "    X_pred = prepare_X(X_pred)\n",
    "    \n",
    "    '''\n",
    "    new_series = pd.DataFrame(X_pred)\n",
    "    print(new_series)  \n",
    "    '''       \n",
    "    pred = est.predict_proba(X_pred)[:, 1]\n",
    "        \n",
    "    '''\n",
    "    new_series = pd.DataFrame(est.coef_)\n",
    "    print(new_series)\n",
    "     \n",
    "    new_series = pd.DataFrame(pred)\n",
    "    print(new_series)\n",
    "        \n",
    "    predictions = np.where(pred>=0.5, 1, 0).T\n",
    "    count = np.count_nonzero(predictions == 1)\n",
    "    print(count)\n",
    "    '''\n",
    "    \n",
    "    Z = pred.reshape((100, 100))  # reshape seq to grid\n",
    "    if ax is None:\n",
    "        ax = plt.gca()\n",
    "    ax.contour(xx1, xx2, Z, levels=[threshold], colors='black')\n",
    "    ax.set_xlim((x_1.min(), x_1.max()))\n",
    "    ax.set_ylim((x_2.min(), x_2.max()))\n",
    "    plt.show()"
   ]
  },
  {
   "cell_type": "code",
   "execution_count": 372,
   "metadata": {},
   "outputs": [],
   "source": [
    "def normalize(X):\n",
    "    \n",
    "    mean = np.mean(X, axis=0) \n",
    "    '''\n",
    "    numpy.mean(a, axis=None)    vertically downwards across rows (axis 0), \n",
    "    np.mean(X, axis=0).shape = (1,n)  - отримаємо n (тут n = 1) середніх значень відповідно до кількості характеристик\n",
    "    '''\n",
    "    std = np.std(X, axis=0)\n",
    "    '''\n",
    "    numpy.std(a, axis=None)    vertically downwards across rows (axis 0), \n",
    "    np.std(X, axis=0).shape = (1,n)  - отримаємо n (тут n = 1) стандартних відхилень відповідно до кількості характеристик\n",
    "    '''\n",
    "    X_new = (X - mean) / std \n",
    "    ''' \n",
    "    поелементне віднімання та ділення для об'єктів np.array, бо для звичайних phython list не працює\n",
    "    потрібно, щоб кількість стовців у X_new, mean, std була однаковою n (тут n = 1)\n",
    "    '''\n",
    "    return X_new, mean, std"
   ]
  },
  {
   "cell_type": "code",
   "execution_count": 373,
   "metadata": {},
   "outputs": [],
   "source": [
    "def prepare_X(X):\n",
    "    m = X.shape[0]\n",
    "    ones = np.ones((m, 1))\n",
    "    X_new = np.column_stack((ones, X))\n",
    "    return X_new"
   ]
  },
  {
   "cell_type": "code",
   "execution_count": 374,
   "metadata": {},
   "outputs": [],
   "source": [
    "def sigmoid(z):\n",
    "    #z - вектор стовпець, тобто (m, 1)\n",
    "    g = 1/(1 + np.exp(-z))\n",
    "    return g"
   ]
  },
  {
   "cell_type": "code",
   "execution_count": 432,
   "metadata": {},
   "outputs": [],
   "source": [
    "def h(X, theta):\n",
    "    '''\n",
    "    X - матриця (m, n+1)\n",
    "    theta - вектор-стовпець (n+1, 1)\n",
    "    z - вектор стовпець, тобто (m, 1) \n",
    "    Щоб його отримати (m, 1) = (m, n+1) * (n+1, 1)\n",
    "    ''' \n",
    "    z = np.dot(X, theta)\n",
    "    \n",
    "    return sigmoid(z)"
   ]
  },
  {
   "cell_type": "code",
   "execution_count": 375,
   "metadata": {},
   "outputs": [],
   "source": [
    "def cost_function(X, y, theta):    \n",
    "    m = X.shape[0]\n",
    "    if m == 0:\n",
    "        return None\n",
    "    '''\n",
    "    h_result.shape = (m, 1)\n",
    "    y.shape = (m, 1)\n",
    "    y.T'.shape = (1, m)\n",
    "    np.dot(y.T, np.log(h_result)) =  (1, m) *  (m, 1) = (1, 1)\n",
    "    '''\n",
    "    h_result = h(X, theta)\n",
    "    J = (-1/m) * ( np.dot(y.T, np.log(h_result)) + np.dot((1 - y).T, np.log(1 - h_result)) )\n",
    "\n",
    "    return J\n",
    "                "
   ]
  },
  {
   "cell_type": "code",
   "execution_count": 376,
   "metadata": {},
   "outputs": [],
   "source": [
    "def derivative_theta(X, y, theta):\n",
    "    m = X.shape[0]\n",
    "    if m == 0:\n",
    "        return None\n",
    "    '''\n",
    "    X.T.shape = (n+1, m)\n",
    "    (h(X, theta)-y).shape = (m,1)\n",
    "    np.dot(X.T, h(X, theta)-y).shape = (n+1, 1)\n",
    "    Оскільки вектор похідних має бути тієії ж розмірності, що й thetha - вектор-(стовпець) параметрів: розмірності (n+1, 1),\n",
    "    то виконуємо транспонування\n",
    "    np.dot(X.T, h(X, theta)-y).shape = (n+1, 1)\n",
    "\n",
    "    np.shape(X)[0]) - кількість рядків(прикладів) m у матриці X \n",
    "    '''\n",
    "    loss = h(X, theta) - y\n",
    "    d_theta = (1/m)* np.dot(X.T, loss)\n",
    "    \n",
    "    return d_theta"
   ]
  },
  {
   "cell_type": "code",
   "execution_count": 377,
   "metadata": {},
   "outputs": [],
   "source": [
    "def gradient_descent(X, y, theta, alpha, epsilon, num_iters, print_J = True):\n",
    "    m = X.shape[0]\n",
    "    J_history = []\n",
    "    \n",
    "    J = cost_function(X, y, theta)\n",
    "    \n",
    "    if print_J == True:\n",
    "        print(J)\n",
    "    J_history.append(J)\n",
    "    for i in range(num_iters):\n",
    "        \n",
    "        theta = theta - alpha*derivative_theta(X, y, theta)\n",
    "        \n",
    "        J = cost_function(X, y, theta)      \n",
    "        \n",
    "        J_history.append(J)\n",
    "        \n",
    "        if i % 1000 == 0 and print_J == True:\n",
    "            print(J)\n",
    "        \n",
    "        if abs(J-J_history[-2]) < epsilon:\n",
    "            break\n",
    "            \n",
    "    return theta, J_history"
   ]
  },
  {
   "cell_type": "code",
   "execution_count": 378,
   "metadata": {},
   "outputs": [],
   "source": [
    "def predict(X, mean, std, theta):\n",
    "    '''\n",
    "    повертає масив зі значенням y = {0,1} для кожного прикладу датасету\n",
    "    \n",
    "    тут  також є формули на випадорк, якщо отримуємо дані вигляду x1, x2\n",
    "    '''\n",
    "    #degree = 2  \n",
    "    #poly = PolynomialFeatures(degree)\n",
    "    #X = poly.fit_transform(X)\n",
    "    #X = np.array(X[:, 1:])\n",
    "    #m = X.shape[0] \n",
    "    #X = (X - mean) / std\n",
    "    #X = prepare_X(X)\n",
    "    pred = h(X, theta)\n",
    "    predictions = np.where(pred >= 0.5, 1, 0)\n",
    "    return predictions"
   ]
  },
  {
   "cell_type": "markdown",
   "metadata": {},
   "source": [
    "## Основний код"
   ]
  },
  {
   "cell_type": "code",
   "execution_count": 379,
   "metadata": {},
   "outputs": [],
   "source": [
    "#data_columns = [\"exam1\", \"exam2\"]\n",
    "#target_column = \"submitted\"\n",
    "#X, y = load_datasets('sats.csv', data_columns, target_column)\n",
    "#print('Training set: X={}, y={}'.format(X.shape, y.shape))"
   ]
  },
  {
   "cell_type": "code",
   "execution_count": 420,
   "metadata": {},
   "outputs": [
    {
     "name": "stdout",
     "output_type": "stream",
     "text": [
      "Training set: X=(118, 2), y=(118,)\n"
     ]
    }
   ],
   "source": [
    "#Спробувати на цьому датасеті після написання всіх функцій і відлагодження на попередньому\n",
    "\n",
    "data_columns = [\"test1\", \"test2\"]\n",
    "target_column = \"passed\"\n",
    "X, y = load_datasets('tests.csv', data_columns, target_column)\n",
    "print('Training set: X={}, y={}'.format(X.shape, y.shape))\n",
    "\n",
    "#(X.max(axis = 0))\n",
    "#print(X.min(axis = 0))\n",
    "\n",
    "\n",
    "#df = pd.read_csv('testsCom.csv')\n",
    "#X, y = df[[\"test1\", \"test2\", \"test1test1\", \"test2test2\", \"test1test2\", \"test1test1test1\", \"test2test2test2\"]], df['passed']\n",
    "#print('Training set: X={}, y={}'.format(X.shape, y.shape))"
   ]
  },
  {
   "cell_type": "code",
   "execution_count": 421,
   "metadata": {},
   "outputs": [
    {
     "name": "stdout",
     "output_type": "stream",
     "text": [
      "(118, 6) (118,)\n"
     ]
    }
   ],
   "source": [
    "degree = 2\n",
    "poly = PolynomialFeatures(degree)\n",
    "X = poly.fit_transform(X)\n",
    "print(X.shape, y.shape)"
   ]
  },
  {
   "cell_type": "code",
   "execution_count": 422,
   "metadata": {},
   "outputs": [
    {
     "data": {
      "image/png": "[encoded data removed]",
      "text/plain": [
       "<Figure size 432x288 with 1 Axes>"
      ]
     },
     "metadata": {
      "needs_background": "light"
     },
     "output_type": "display_data"
    }
   ],
   "source": [
    "plot_data(X, y)"
   ]
  },
  {
   "cell_type": "code",
   "execution_count": 423,
   "metadata": {},
   "outputs": [],
   "source": [
    "X_new, mean, std = normalize(X[:, 1:])"
   ]
  },
  {
   "cell_type": "code",
   "execution_count": 424,
   "metadata": {},
   "outputs": [
    {
     "name": "stdout",
     "output_type": "stream",
     "text": [
      "(118, 6)\n",
      "[1 1 1 1 1 1 1 1 1 1 1 1 1 1 1 1 1 1 1 1 1 1 1 1 1 1 1 1 1 1 1 1 1 1 1 1 1\n",
      " 1 1 1 1 1 1 1 1 1 1 1 1 1 1 1 1 1 1 1 1 1 0 0 0 0 0 0 0 0 0 0 0 0 0 0 0 0\n",
      " 0 0 0 0 0 0 0 0 0 0 0 0 0 0 0 0 0 0 0 0 0 0 0 0 0 0 0 0 0 0 0 0 0 0 0 0 0\n",
      " 0 0 0 0 0 0 0]\n"
     ]
    }
   ],
   "source": [
    "X_new = prepare_X(X_new)\n",
    "print(X_new.shape)\n",
    "y_new = y.values.reshape((X.shape[0],))\n",
    "print(y_new.T)"
   ]
  },
  {
   "cell_type": "code",
   "execution_count": 425,
   "metadata": {},
   "outputs": [
    {
     "name": "stdout",
     "output_type": "stream",
     "text": [
      "Training set: X=(112, 6), y=(112,)\n",
      "Test set: X=(6, 6), y=(6,)\n"
     ]
    }
   ],
   "source": [
    "test_size = 0.05\n",
    "X_train, X_test, y_train, y_test = split_datasets(X_new, y_new, test_size)\n",
    "print('Training set: X={}, y={}'.format(X_train.shape, y_train.shape))\n",
    "print('Test set: X={}, y={}'.format(X_test.shape, y_test.shape))"
   ]
  },
  {
   "cell_type": "code",
   "execution_count": 426,
   "metadata": {},
   "outputs": [
    {
     "name": "stdout",
     "output_type": "stream",
     "text": [
      "(6,)\n"
     ]
    }
   ],
   "source": [
    "theta = np.zeros((X_new.shape[1],))\n",
    "print(theta.shape)"
   ]
  },
  {
   "cell_type": "code",
   "execution_count": 427,
   "metadata": {},
   "outputs": [
    {
     "data": {
      "text/plain": [
       "0.6931471805599453"
      ]
     },
     "execution_count": 427,
     "metadata": {},
     "output_type": "execute_result"
    }
   ],
   "source": [
    "cost_function(X_train, y_train, theta)"
   ]
  },
  {
   "cell_type": "code",
   "execution_count": 428,
   "metadata": {
    "scrolled": true
   },
   "outputs": [
    {
     "name": "stdout",
     "output_type": "stream",
     "text": [
      "[-0.17333589  1.60497722  2.15267476 -2.9301054  -1.62115415 -3.166919  ] 61342\n"
     ]
    }
   ],
   "source": [
    "new_theta, Js = gradient_descent(X_train, y_train, theta, 0.01, 1e-10, 100000, False)\n",
    "print(new_theta, len(Js))"
   ]
  },
  {
   "cell_type": "code",
   "execution_count": 429,
   "metadata": {},
   "outputs": [
    {
     "data": {
      "text/plain": [
       "0.3538013962813971"
      ]
     },
     "execution_count": 429,
     "metadata": {},
     "output_type": "execute_result"
    }
   ],
   "source": [
    "cost_function(X_train, y_train, new_theta)"
   ]
  },
  {
   "cell_type": "code",
   "execution_count": 430,
   "metadata": {},
   "outputs": [
    {
     "name": "stdout",
     "output_type": "stream",
     "text": [
      "[1 0 0 0 1 1]\n",
      "[1 0 0 0 1 0]\n",
      "0.8333333333333334\n"
     ]
    }
   ],
   "source": [
    "#T = np.array([[40, 40], [60, 65]])\n",
    "T = X_test\n",
    "y_predicted = predict(T, mean, std, new_theta)\n",
    "\n",
    "print(y_predicted.T)\n",
    "print(y_test)\n",
    "#print(accuracy_score(y_test, y_predicted.T))\n",
    "number_right = 0\n",
    "for i in range(y_test.shape[0]):\n",
    "    if (y_predicted[i] == y_test[i]):\n",
    "        number_right = number_right + 1\n",
    "accuracy_custom = number_right/ y_test.shape[0]\n",
    "print(accuracy_custom)\n",
    "#print(accuracy_score(y, y_predicted)) - можна також використати такий метод (тоді не потрбні обрахунки вище)\n"
   ]
  },
  {
   "cell_type": "code",
   "execution_count": 431,
   "metadata": {},
   "outputs": [
    {
     "name": "stdout",
     "output_type": "stream",
     "text": [
      "[1 0 1 1 1 0 1 1 0 0 1 1 0 0 1 0 0 1 1 1 0 1 0 1 0 1 1 0 0 1 0 0 0 1 0 1 0\n",
      " 0 0 0 1 1 1 0 0 0 0 0 0 1 0 1 0 1 1 1 0 1 0 1 1 1 0 1 0 1 1 0 1 0 0 0 0 1\n",
      " 0 1 1 0 0 0 1 1 1 0 1 0 1 0 0 1 1 0 0 1 1 0 0 0 1 1 1 0 0 1 0 1 1 1 1 0 0\n",
      " 0]\n",
      "[1 0 1 1 1 0 0 0 1 0 1 1 1 0 1 0 0 1 1 1 0 1 0 0 0 1 1 0 0 1 0 0 1 1 0 1 0\n",
      " 0 0 0 1 1 1 0 0 1 0 0 0 1 0 1 0 1 1 1 0 1 0 0 1 1 1 0 0 1 1 0 0 1 0 0 0 1\n",
      " 0 1 1 0 0 0 1 0 1 0 1 0 1 1 0 0 1 0 0 1 1 1 0 0 1 1 1 0 0 1 0 1 1 1 1 0 1\n",
      " 0]\n",
      "0.8482142857142857\n"
     ]
    }
   ],
   "source": [
    "#передбачення для датасету train\n",
    "y_predicted_train_custom = predict(X_train, mean, std, new_theta)\n",
    "print(y_predicted_train_custom)\n",
    "print(y_train)\n",
    "accuracy_train_custom = accuracy_score(y_train, y_predicted_train_custom)\n",
    "print(accuracy_train_custom)"
   ]
  },
  {
   "cell_type": "code",
   "execution_count": 433,
   "metadata": {},
   "outputs": [
    {
     "data": {
      "image/png": "[encoded data removed]",
      "text/plain": [
       "<Figure size 432x288 with 1 Axes>"
      ]
     },
     "metadata": {
      "needs_background": "light"
     },
     "output_type": "display_data"
    }
   ],
   "source": [
    "plot_data(X, y)\n",
    "decision_boundary(X, y, mean, std, new_theta)"
   ]
  },
  {
   "cell_type": "code",
   "execution_count": 435,
   "metadata": {},
   "outputs": [],
   "source": [
    "#y_pred = clf.predict(X_test[:, 1:])\n",
    "y_pred = clf.predict(X_test)"
   ]
  },
  {
   "cell_type": "code",
   "execution_count": 436,
   "metadata": {},
   "outputs": [
    {
     "data": {
      "text/plain": [
       "array([1, 0, 1, 0, 1, 1], dtype=int64)"
      ]
     },
     "execution_count": 436,
     "metadata": {},
     "output_type": "execute_result"
    }
   ],
   "source": [
    "y_pred"
   ]
  },
  {
   "cell_type": "code",
   "execution_count": 437,
   "metadata": {},
   "outputs": [
    {
     "data": {
      "text/plain": [
       "0.6666666666666666"
      ]
     },
     "execution_count": 437,
     "metadata": {},
     "output_type": "execute_result"
    }
   ],
   "source": [
    "accuracy_score(y_test, y_pred)"
   ]
  },
  {
   "cell_type": "code",
   "execution_count": 438,
   "metadata": {},
   "outputs": [],
   "source": [
    "accuracy_sk = accuracy_score(y_test, y_pred)"
   ]
  },
  {
   "cell_type": "code",
   "execution_count": 439,
   "metadata": {},
   "outputs": [
    {
     "name": "stdout",
     "output_type": "stream",
     "text": [
      "[1 1 1 1 1 0 1 1 0 0 1 1 1 0 1 1 0 1 1 1 0 1 0 1 0 1 1 0 0 1 0 0 1 1 0 1 0\n",
      " 1 0 0 1 1 1 0 0 1 0 1 0 1 0 1 0 1 1 1 0 1 1 1 1 1 1 1 1 1 1 0 1 0 0 0 0 1\n",
      " 1 1 1 1 0 0 1 1 1 0 1 1 1 0 1 1 1 0 0 1 1 1 1 0 1 1 1 0 1 1 1 1 1 1 1 1 1\n",
      " 0]\n",
      "[1 0 1 1 1 0 0 0 1 0 1 1 1 0 1 0 0 1 1 1 0 1 0 0 0 1 1 0 0 1 0 0 1 1 0 1 0\n",
      " 0 0 0 1 1 1 0 0 1 0 0 0 1 0 1 0 1 1 1 0 1 0 0 1 1 1 0 0 1 1 0 0 1 0 0 0 1\n",
      " 0 1 1 0 0 0 1 0 1 0 1 0 1 1 0 0 1 0 0 1 1 1 0 0 1 1 1 0 0 1 0 1 1 1 1 0 1\n",
      " 0]\n",
      "0.7767857142857143\n"
     ]
    }
   ],
   "source": [
    "#передбачення для датасету train\n",
    "y_predicted_train_sk = clf.predict(X_train)\n",
    "print(y_predicted_train_sk)\n",
    "print(y_train)\n",
    "accuracy_train_sk = accuracy_score(y_train, y_predicted_train_sk)\n",
    "print(accuracy_train_sk)"
   ]
  },
  {
   "cell_type": "code",
   "execution_count": 440,
   "metadata": {},
   "outputs": [
    {
     "data": {
      "image/png": "[encoded data removed]",
      "text/plain": [
       "<Figure size 432x288 with 1 Axes>"
      ]
     },
     "metadata": {
      "needs_background": "light"
     },
     "output_type": "display_data"
    }
   ],
   "source": [
    "plot_data(X, y)\n",
    "\n",
    "\n",
    "plot_surface(clf,X[:,1],X[:,2])"
   ]
  },
  {
   "cell_type": "code",
   "execution_count": 443,
   "metadata": {},
   "outputs": [
    {
     "name": "stdout",
     "output_type": "stream",
     "text": [
      "Compare accuracy of custom and sklearn algorithm (for degree 2 ).\n",
      "\n",
      "TEST Data.\n",
      "\n",
      "   accuracy_custom_test  accuracy_sk_test  difference in %\n",
      "0              0.833333          0.666667         0.166667\n",
      "TRAIN Data.\n",
      "\n",
      "   accuracy_custom_train  accuracy_sk_train  difference in %\n",
      "0               0.848214           0.776786         0.071429\n"
     ]
    }
   ],
   "source": [
    "print(\"Compare accuracy of custom and sklearn algorithm (for degree 2 ).\\n\")\n",
    "print(\"TEST Data.\\n\")\n",
    "res_compare_test = pd.DataFrame({'accuracy_custom_test' : [accuracy_custom], 'accuracy_sk_test' : [accuracy_sk], 'difference in %' : [abs(accuracy_custom - accuracy_sk)]})\n",
    "print(res_compare_test)\n",
    "print(\"TRAIN Data.\\n\")\n",
    "res_compare_train = pd.DataFrame({'accuracy_custom_train' : [accuracy_train_custom], 'accuracy_sk_train' : [accuracy_train_sk], 'difference in %' : [abs(accuracy_train_custom - accuracy_train_sk)]})\n",
    "print(res_compare_train)"
   ]
  },
  {
   "cell_type": "code",
   "execution_count": 444,
   "metadata": {},
   "outputs": [
    {
     "name": "stdout",
     "output_type": "stream",
     "text": [
      "[18]\n",
      "6\n",
      "[1.19944583]\n",
      "[0 1]\n"
     ]
    }
   ],
   "source": [
    "# sk learn attributes\n",
    "print(clf.n_iter_)\n",
    "print(clf.n_features_in_)\n",
    "print(clf.intercept_)\n",
    "print(clf.classes_)"
   ]
  },
  {
   "cell_type": "code",
   "execution_count": null,
   "metadata": {},
   "outputs": [],
   "source": []
  }
 ],
 "metadata": {
  "anaconda-cloud": {},
  "kernelspec": {
   "display_name": "Python 3 (ipykernel)",
   "language": "python",
   "name": "python3"
  },
  "language_info": {
   "codemirror_mode": {
    "name": "ipython",
    "version": 3
   },
   "file_extension": ".py",
   "mimetype": "text/x-python",
   "name": "python",
   "nbconvert_exporter": "python",
   "pygments_lexer": "ipython3",
   "version": "3.8.12"
  }
 },
 "nbformat": 4,
 "nbformat_minor": 1
}
